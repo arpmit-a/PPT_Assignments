{
 "cells": [
  {
   "cell_type": "code",
   "execution_count": null,
   "id": "3eb63c1f-33d8-4be7-a4bf-a84a4fa52fb9",
   "metadata": {},
   "outputs": [],
   "source": [
    "#Q1\n",
    "vector<int> twoSum(vector<int>& nums, int target) {\n",
    "      for(int i=0;i<nums.size();i++)\n",
    "      {\n",
    "          for(int j=i+1;j<nums.size();j++)\n",
    "          {\n",
    "              if((nums[i]+nums[j])==target)\n",
    "              {\n",
    "                return {i  , j };\n",
    "              }\n",
    "              \n",
    "          }\n",
    "          \n",
    "      }  \n",
    "  return {};  \n",
    "  }"
   ]
  },
  {
   "cell_type": "code",
   "execution_count": null,
   "id": "99fa87b8-6ee2-4d90-8dc9-959f3716e794",
   "metadata": {},
   "outputs": [],
   "source": [
    "#Q2\n",
    "int removeElement(vector<int>& nums, int val) {\n",
    "    int n = nums.size();\n",
    "    int i = 0;\n",
    "    int j = n - 1;\n",
    "    \n",
    "    while (i <= j) {\n",
    "        if (nums[i] == val) {\n",
    "            nums[i] = nums[j];\n",
    "            j--;\n",
    "            n--;\n",
    "        } else {\n",
    "            i++;\n",
    "        }\n",
    "    }\n",
    "    \n",
    "    return n;\n",
    "}"
   ]
  },
  {
   "cell_type": "code",
   "execution_count": null,
   "id": "2b236fb6-3884-42c6-a65b-171fa21b6adb",
   "metadata": {},
   "outputs": [],
   "source": [
    "#Q3\n",
    "int searchInsert(vector<int>& nums, int target) {\n",
    "       int n=nums.size();\n",
    "        int l=0,r=n-1;\n",
    "        while(l<=r){\n",
    "            int m=l+(r-l)/2;\n",
    "            if(nums[m]==target) return m;\n",
    "            if(nums[m]<target) l= m+1;\n",
    "            else r=m-1;\n",
    "        }\n",
    "        return l; \n",
    "    }\n",
    "'''Binary Search'''"
   ]
  },
  {
   "cell_type": "code",
   "execution_count": null,
   "id": "173b1770-d44b-4db0-b844-da49c754c1db",
   "metadata": {},
   "outputs": [],
   "source": [
    "#Q4\n",
    "vector<int> plusOne(vector<int>& digits) {\n",
    "        for (int i = digits.size() - 1; i >= 0; --i) {\n",
    "            ++digits[i];\n",
    "            digits[i] %= 10;\n",
    "            if (digits[i] != 0) return digits;\n",
    "        }\n",
    "        digits.insert(digits.begin(), 1);\n",
    "        return digits;\n",
    "    }"
   ]
  },
  {
   "cell_type": "code",
   "execution_count": null,
   "id": "4de80797-29b8-41fe-a958-07956a068b23",
   "metadata": {},
   "outputs": [],
   "source": [
    "#Q5\n",
    "void merge(vector<int>& nums1, int m, vector<int>& nums2, int n) {\n",
    "       for(int i=0; i<n; i++){\n",
    "            nums1[m+i] = nums2[i];\n",
    "        }\n",
    "        sort(nums1.begin(), nums1.end()); \n",
    "    }\n"
   ]
  },
  {
   "cell_type": "code",
   "execution_count": null,
   "id": "78a3caa7-3158-4b00-9e08-8203f80c9cd8",
   "metadata": {},
   "outputs": [],
   "source": [
    "#Q6\n",
    " bool containsDuplicate(vector<int>& nums) {\n",
    "         sort(nums.begin(),nums.end());\n",
    "        bool flag = false;\n",
    "        for(int i =0;i<nums.size()-1;i++){\n",
    "            if(nums[i] == nums[i+1]) return true;\n",
    "        }\n",
    "        return flag;\n",
    "    }"
   ]
  },
  {
   "cell_type": "code",
   "execution_count": null,
   "id": "a3a3a8cb-7e3b-46b1-9c89-6f00b4506f25",
   "metadata": {},
   "outputs": [],
   "source": [
    "#Q7\n",
    "void moveZeroes(vector<int>& nums) {\n",
    "    int n = nums.size();\n",
    "    int index = 0;\n",
    "\n",
    "    // Move all non-zero elements to the left side of the array\n",
    "    for (int i = 0; i < n; i++) {\n",
    "        if (nums[i] != 0) {\n",
    "            nums[index] = nums[i];\n",
    "            index++;\n",
    "        }\n",
    "    }\n",
    "\n",
    "    // Fill the remaining elements with zeros\n",
    "    while (index < n) {\n",
    "        nums[index] = 0;\n",
    "        index++;\n",
    "    }\n",
    "}"
   ]
  },
  {
   "cell_type": "code",
   "execution_count": null,
   "id": "6d5c495f-134a-4ac0-8a0e-c085f7e4fce5",
   "metadata": {},
   "outputs": [],
   "source": [
    "#Q8\n",
    "vector<int> findErrorNums(vector<int>& nums) {\n",
    "        int dup=-1,missing=1;\n",
    "        vector<int>result;\n",
    "\n",
    "        // find the duplicate.\n",
    "        for(auto x:nums){\n",
    "            // duplicate.\n",
    "            if(nums[abs(x)-1]<0){\n",
    "                dup =abs(x);\n",
    "            }else{\n",
    "                nums[abs(x)-1] *=-1;\n",
    "            }\n",
    "\n",
    "        }\n",
    "        result.push_back(dup);\n",
    "\n",
    "        // find the missing..\n",
    "        for(int i=1;i<nums.size();i++){\n",
    "\n",
    "            if(nums[i]>0){\n",
    "                 // missing.\n",
    "                missing = i+1;\n",
    "            }\n",
    "\n",
    "        }\n",
    "        result.push_back(missing);\n",
    "        return result;\n",
    "    }"
   ]
  }
 ],
 "metadata": {
  "kernelspec": {
   "display_name": "Python 3 (ipykernel)",
   "language": "python",
   "name": "python3"
  },
  "language_info": {
   "codemirror_mode": {
    "name": "ipython",
    "version": 3
   },
   "file_extension": ".py",
   "mimetype": "text/x-python",
   "name": "python",
   "nbconvert_exporter": "python",
   "pygments_lexer": "ipython3",
   "version": "3.10.8"
  }
 },
 "nbformat": 4,
 "nbformat_minor": 5
}
